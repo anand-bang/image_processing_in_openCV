{
 "cells": [
  {
   "cell_type": "code",
   "execution_count": 1,
   "metadata": {},
   "outputs": [],
   "source": [
    "import cv2"
   ]
  },
  {
   "cell_type": "code",
   "execution_count": 2,
   "metadata": {},
   "outputs": [],
   "source": [
    "# load image\n",
    "img = cv2.imread('frame0.jpg')"
   ]
  },
  {
   "cell_type": "code",
   "execution_count": 3,
   "metadata": {},
   "outputs": [
    {
     "data": {
      "text/plain": [
       "array([[[56, 45, 91],\n",
       "        [57, 46, 92],\n",
       "        [60, 46, 94],\n",
       "        ...,\n",
       "        [22, 32, 72],\n",
       "        [21, 32, 70],\n",
       "        [18, 31, 69]],\n",
       "\n",
       "       [[53, 42, 88],\n",
       "        [57, 43, 91],\n",
       "        [58, 44, 92],\n",
       "        ...,\n",
       "        [22, 32, 72],\n",
       "        [23, 34, 72],\n",
       "        [22, 35, 73]],\n",
       "\n",
       "       [[54, 40, 88],\n",
       "        [55, 41, 89],\n",
       "        [57, 43, 91],\n",
       "        ...,\n",
       "        [22, 32, 72],\n",
       "        [24, 34, 74],\n",
       "        [23, 35, 75]],\n",
       "\n",
       "       ...,\n",
       "\n",
       "       [[52, 21, 22],\n",
       "        [50, 21, 24],\n",
       "        [52, 22, 27],\n",
       "        ...,\n",
       "        [66, 62, 97],\n",
       "        [65, 61, 97],\n",
       "        [66, 59, 96]],\n",
       "\n",
       "       [[48, 20,  9],\n",
       "        [50, 21, 12],\n",
       "        [52, 23, 18],\n",
       "        ...,\n",
       "        [67, 60, 97],\n",
       "        [67, 60, 97],\n",
       "        [68, 60, 97]],\n",
       "\n",
       "       [[49, 22,  2],\n",
       "        [49, 23,  6],\n",
       "        [52, 24, 13],\n",
       "        ...,\n",
       "        [68, 60, 97],\n",
       "        [68, 60, 97],\n",
       "        [68, 59, 99]]], dtype=uint8)"
      ]
     },
     "execution_count": 3,
     "metadata": {},
     "output_type": "execute_result"
    }
   ],
   "source": [
    "img"
   ]
  },
  {
   "cell_type": "code",
   "execution_count": 4,
   "metadata": {},
   "outputs": [],
   "source": [
    "# At first vertical devide image         \n",
    "# start vertical devide image\n",
    "height = img.shape[0]\n",
    "width = img.shape[1]\n",
    "# Cut the image in half\n",
    "width_cutoff = width // 2\n",
    "left1 = img[:, :width_cutoff]\n",
    "right1 = img[:, width_cutoff:]\n",
    "# finish vertical devide image\n"
   ]
  },
  {
   "cell_type": "code",
   "execution_count": 5,
   "metadata": {},
   "outputs": [
    {
     "data": {
      "text/plain": [
       "True"
      ]
     },
     "execution_count": 5,
     "metadata": {},
     "output_type": "execute_result"
    }
   ],
   "source": [
    "\n",
    "# At first Horizontal devide left1 image \n",
    "#rotate image LEFT1 to 90 CLOCKWISE\n",
    "img = cv2.rotate(left1, cv2.ROTATE_90_CLOCKWISE)\n",
    "# start vertical devide image\n",
    "height = img.shape[0]\n",
    "width = img.shape[1]\n",
    "# Cut the image in half\n",
    "width_cutoff = width // 2\n",
    "l1 = img[:, :width_cutoff]\n",
    "l2 = img[:, width_cutoff:]\n",
    "# finish vertical devide image\n",
    "#rotate image to 90 COUNTERCLOCKWISE\n",
    "l1 = cv2.rotate(l1, cv2.ROTATE_90_COUNTERCLOCKWISE)\n",
    "#save\n",
    "cv2.imwrite(\"img3.jpg\", l1)\n",
    "#rotate image to 90 COUNTERCLOCKWISE\n",
    "l2 = cv2.rotate(l2, cv2.ROTATE_90_COUNTERCLOCKWISE)\n",
    "#save\n",
    "cv2.imwrite(\"img1.jpg\", l2)\n",
    "\n",
    "# At first Horizontal devide right1 image\n",
    "#rotate image RIGHT1 to 90 CLOCKWISE\n",
    "img = cv2.rotate(right1, cv2.ROTATE_90_CLOCKWISE)\n",
    "# start vertical devide image\n",
    "height = img.shape[0]\n",
    "width = img.shape[1]\n",
    "# Cut the image in half\n",
    "width_cutoff = width // 2\n",
    "r1 = img[:, :width_cutoff]\n",
    "r2 = img[:, width_cutoff:]\n",
    "# finish vertical devide image\n",
    "#rotate image to 90 COUNTERCLOCKWISE\n",
    "r1 = cv2.rotate(r1, cv2.ROTATE_90_COUNTERCLOCKWISE)\n",
    "#save\n",
    "cv2.imwrite(\"img4.jpg\", r1)\n",
    "#rotate image to 90 COUNTERCLOCKWISE\n",
    "r2 = cv2.rotate(r2, cv2.ROTATE_90_COUNTERCLOCKWISE)\n",
    "#save\n",
    "cv2.imwrite(\"img2.jpg\", r2)"
   ]
  },
  {
   "cell_type": "code",
   "execution_count": null,
   "metadata": {},
   "outputs": [],
   "source": []
  },
  {
   "cell_type": "code",
   "execution_count": 2,
   "metadata": {},
   "outputs": [
    {
     "name": "stdout",
     "output_type": "stream",
     "text": [
      "Enter your no: 4\n"
     ]
    },
    {
     "ename": "AttributeError",
     "evalue": "'JpegImageFile' object has no attribute 'shape'",
     "output_type": "error",
     "traceback": [
      "\u001b[1;31m---------------------------------------------------------------------------\u001b[0m",
      "\u001b[1;31mAttributeError\u001b[0m                            Traceback (most recent call last)",
      "\u001b[1;32m<ipython-input-2-387000156355>\u001b[0m in \u001b[0;36m<module>\u001b[1;34m\u001b[0m\n\u001b[0;32m     59\u001b[0m \u001b[1;33m\u001b[0m\u001b[0m\n\u001b[0;32m     60\u001b[0m     \u001b[0mim1\u001b[0m\u001b[1;33m[\u001b[0m\u001b[1;36m0\u001b[0m\u001b[1;33m]\u001b[0m\u001b[1;33m.\u001b[0m\u001b[0mshow\u001b[0m\u001b[1;33m(\u001b[0m\u001b[1;33m)\u001b[0m\u001b[1;33m\u001b[0m\u001b[1;33m\u001b[0m\u001b[0m\n\u001b[1;32m---> 61\u001b[1;33m \u001b[0msplit\u001b[0m\u001b[1;33m(\u001b[0m\u001b[1;33m)\u001b[0m\u001b[1;33m\u001b[0m\u001b[1;33m\u001b[0m\u001b[0m\n\u001b[0m",
      "\u001b[1;32m<ipython-input-2-387000156355>\u001b[0m in \u001b[0;36msplit\u001b[1;34m()\u001b[0m\n\u001b[0;32m      9\u001b[0m     \u001b[1;31m# At first vertical devide image\u001b[0m\u001b[1;33m\u001b[0m\u001b[1;33m\u001b[0m\u001b[1;33m\u001b[0m\u001b[0m\n\u001b[0;32m     10\u001b[0m     \u001b[1;31m# start vertical devide image\u001b[0m\u001b[1;33m\u001b[0m\u001b[1;33m\u001b[0m\u001b[1;33m\u001b[0m\u001b[0m\n\u001b[1;32m---> 11\u001b[1;33m     \u001b[0mheight\u001b[0m \u001b[1;33m=\u001b[0m \u001b[0mimg\u001b[0m\u001b[1;33m.\u001b[0m\u001b[0mshape\u001b[0m\u001b[1;33m[\u001b[0m\u001b[1;36m0\u001b[0m\u001b[1;33m]\u001b[0m\u001b[1;33m\u001b[0m\u001b[1;33m\u001b[0m\u001b[0m\n\u001b[0m\u001b[0;32m     12\u001b[0m     \u001b[0mwidth\u001b[0m \u001b[1;33m=\u001b[0m \u001b[0mimg\u001b[0m\u001b[1;33m.\u001b[0m\u001b[0mshape\u001b[0m\u001b[1;33m[\u001b[0m\u001b[1;36m1\u001b[0m\u001b[1;33m]\u001b[0m\u001b[1;33m\u001b[0m\u001b[1;33m\u001b[0m\u001b[0m\n\u001b[0;32m     13\u001b[0m     \u001b[1;31m# Cut the image in half\u001b[0m\u001b[1;33m\u001b[0m\u001b[1;33m\u001b[0m\u001b[1;33m\u001b[0m\u001b[0m\n",
      "\u001b[1;31mAttributeError\u001b[0m: 'JpegImageFile' object has no attribute 'shape'"
     ]
    }
   ],
   "source": [
    "# importing Image class from PIL package\n",
    "from PIL import Image\n",
    "def split():\n",
    "    # opening a singleband image\n",
    "    img = Image.open(r\"frame0.jpg\")\n",
    "    no = int(input(\"Enter your no: \"))\n",
    "\n",
    "    \n",
    "    # At first vertical devide image         \n",
    "    # start vertical devide image\n",
    "    height = img.shape[0]\n",
    "    width = img.shape[1]\n",
    "    # Cut the image in half\n",
    "    width_cutoff = width // 2\n",
    "    left1 = img[:, :width_cutoff]\n",
    "    right1 = img[:, width_cutoff:]\n",
    "    # finish vertical devide image\n",
    "    \n",
    "\n",
    "    # At first Horizontal devide left1 image \n",
    "    #rotate image LEFT1 to 90 CLOCKWISE\n",
    "    img = cv2.rotate(left1, cv2.ROTATE_90_CLOCKWISE)\n",
    "    # start vertical devide image\n",
    "    height = img.shape[0]\n",
    "    width = img.shape[1]\n",
    "    # Cut the image in half\n",
    "    width_cutoff = width // 2\n",
    "    l1 = img[:, :width_cutoff]\n",
    "    l2 = img[:, width_cutoff:]\n",
    "    # finish vertical devide image\n",
    "    #rotate image to 90 COUNTERCLOCKWISE\n",
    "    l1 = cv2.rotate(l1, cv2.ROTATE_90_COUNTERCLOCKWISE)\n",
    "    #save\n",
    "    cv2.imwrite(\"img3.jpg\", l1)\n",
    "    #rotate image to 90 COUNTERCLOCKWISE\n",
    "    l2 = cv2.rotate(l2, cv2.ROTATE_90_COUNTERCLOCKWISE)\n",
    "    #save\n",
    "    cv2.imwrite(\"img1.jpg\", l2)\n",
    "\n",
    "    # At first Horizontal devide right1 image\n",
    "    #rotate image RIGHT1 to 90 CLOCKWISE\n",
    "    img = cv2.rotate(right1, cv2.ROTATE_90_CLOCKWISE)\n",
    "    # start vertical devide image\n",
    "    height = img.shape[0]\n",
    "    width = img.shape[1]\n",
    "    # Cut the image in half\n",
    "    width_cutoff = width // 2\n",
    "    r1 = img[:, :width_cutoff]\n",
    "    r2 = img[:, width_cutoff:]\n",
    "    # finish vertical devide image\n",
    "    #rotate image to 90 COUNTERCLOCKWISE\n",
    "    r1 = cv2.rotate(r1, cv2.ROTATE_90_COUNTERCLOCKWISE)\n",
    "    #save\n",
    "    cv2.imwrite(\"img4.jpg\", r1)\n",
    "    #rotate image to 90 COUNTERCLOCKWISE\n",
    "    r2 = cv2.rotate(r2, cv2.ROTATE_90_COUNTERCLOCKWISE)\n",
    "    #save\n",
    "    cv2.imwrite(\"img2.jpg\", r2)\n",
    "\n",
    "    im1[0].show()\n",
    "split()"
   ]
  },
  {
   "cell_type": "code",
   "execution_count": null,
   "metadata": {},
   "outputs": [],
   "source": []
  }
 ],
 "metadata": {
  "kernelspec": {
   "display_name": "Python 3",
   "language": "python",
   "name": "python3"
  },
  "language_info": {
   "codemirror_mode": {
    "name": "ipython",
    "version": 3
   },
   "file_extension": ".py",
   "mimetype": "text/x-python",
   "name": "python",
   "nbconvert_exporter": "python",
   "pygments_lexer": "ipython3",
   "version": "3.8.3"
  }
 },
 "nbformat": 4,
 "nbformat_minor": 5
}
