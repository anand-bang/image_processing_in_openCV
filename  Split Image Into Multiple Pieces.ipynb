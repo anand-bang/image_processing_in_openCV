{
 "cells": [
  {
   "cell_type": "code",
   "execution_count": 23,
   "metadata": {},
   "outputs": [],
   "source": [
    "#importing Image class from PIL package\n",
    "#to import the package you need to use import cv2\n",
    "from PIL import Image\n",
    "import cv2\n",
    "\n",
    "# define function\n",
    "def split(path_of_image_to_load,path_to_save,num_of_tiles):\n",
    " \n",
    "    # Load the image in img variable\n",
    "    im = cv2.imread(path_of_image_to_load)\n",
    "    #represents the number of pixel\n",
    "    imgheight=im.shape[0]\n",
    "    imgwidth=im.shape[1]\n",
    "\n",
    "    y1 = 0\n",
    "    M = imgheight//num_of_tiles\n",
    "    N = imgwidth//num_of_tiles\n",
    "    \n",
    "    # Save Chops of original image\n",
    "    for y in range(0,imgheight,M):\n",
    "        for x in range(1,imgwidth,N):\n",
    "            y1 = y + M\n",
    "            x1 = x + N\n",
    "            tiles = im[y:y+M,x:x+N]\n",
    "\n",
    "            cv2.rectangle(im, (x, y), (x1, y1), (0, 255, 0))\n",
    "            # Save the image in Output Folder\n",
    "            cv2.imwrite(path_to_save + str(x) + '_' + str(y)+'.jpg',tiles)\n",
    "    "
   ]
  },
  {
   "cell_type": "code",
   "execution_count": 24,
   "metadata": {},
   "outputs": [],
   "source": [
    "split(r\"C:\\\\Users\\\\sai\\\\Downloads\\\\apple.jpg\",\"C:\\\\Users\\\\sai\\Downloads\\\\path\\\\\",2) "
   ]
  }
 ],
 "metadata": {
  "kernelspec": {
   "display_name": "Python 3",
   "language": "python",
   "name": "python3"
  },
  "language_info": {
   "codemirror_mode": {
    "name": "ipython",
    "version": 3
   },
   "file_extension": ".py",
   "mimetype": "text/x-python",
   "name": "python",
   "nbconvert_exporter": "python",
   "pygments_lexer": "ipython3",
   "version": "3.8.3"
  }
 },
 "nbformat": 4,
 "nbformat_minor": 4
}
